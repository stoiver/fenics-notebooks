{
  "nbformat": 4,
  "nbformat_minor": 0,
  "metadata": {
    "colab": {
      "name": "stokes.ipynb",
      "version": "0.3.2",
      "provenance": [],
      "collapsed_sections": [
        "vS_YdSbqFOln",
        "9SJXe6I5JUwF",
        "r6GW2fwLE042"
      ],
      "include_colab_link": true
    },
    "kernelspec": {
      "name": "python3",
      "display_name": "Python 3"
    }
  },
  "cells": [
    {
      "cell_type": "markdown",
      "metadata": {
        "id": "view-in-github",
        "colab_type": "text"
      },
      "source": [
        "<a href=\"https://colab.research.google.com/github/rkwi/fenics-notebooks/blob/master/Notebooks/stokes.ipynb\" target=\"_parent\"><img src=\"https://colab.research.google.com/assets/colab-badge.svg\" alt=\"Open In Colab\"/></a>"
      ]
    },
    {
      "metadata": {
        "id": "rt24G_MqMFli",
        "colab_type": "text"
      },
      "cell_type": "markdown",
      "source": [
        "This program solves the steady incompressible stokes equations in a 2D lid driven cavity."
      ]
    },
    {
      "metadata": {
        "id": "9SJXe6I5JUwF",
        "colab_type": "text"
      },
      "cell_type": "markdown",
      "source": [
        "# Setup FEniCS"
      ]
    },
    {
      "metadata": {
        "id": "4jWzVxURFVLj",
        "colab_type": "code",
        "colab": {}
      },
      "cell_type": "code",
      "source": [
        "from google.colab import files\n",
        "\n",
        "import platform, sys\n",
        "python_version=platform.python_version()\n",
        "from distutils.version import LooseVersion, StrictVersion\n",
        "\n",
        "if ( LooseVersion(python_version) < LooseVersion(\"3.0.0\")):\n",
        "    print(\"Python3 is needed!\");\n",
        "    print(\"How to fix: Runtime/Change_runtime_type/Python 3\");\n",
        "    sys.exit()\n",
        "try:\n",
        "    from dolfin import *; from mshr import *\n",
        "except ImportError as e:\n",
        "    !apt-get install -y -qq software-properties-common python-software-properties module-init-tools\n",
        "    !add-apt-repository -y ppa:fenics-packages/fenics\n",
        "    !apt-get update -qq\n",
        "    !apt install -y --no-install-recommends fenics\n",
        "    from dolfin import *; from mshr import *\n",
        "    \n",
        "import matplotlib.pyplot as plt;\n",
        "from IPython.display import clear_output, display; import time; import dolfin.common.plotting as fenicsplot \n",
        "import time\n",
        "\n",
        "import os, sys, shutil\n",
        "\n",
        "dolfin_version = dolfin.__version__\n",
        "print ('dolfin version:', dolfin_version)\n",
        "\n",
        "!rm -rf * # clean up all files\n",
        "# Useful commands\n",
        "# Remove an empty folder      : os.rmdir(\"my_results\")\n",
        "# Remove a folder with files  : shutil.rmtree(\"results\")\n",
        "# Make a folder               : os.mkdir(\"my_results\")\n",
        "# Runtime/Change_runtime_type/Python3\n",
        "\n",
        "from fenics import *"
      ],
      "execution_count": 0,
      "outputs": []
    },
    {
      "metadata": {
        "id": "aiUvz-WE70WC",
        "colab_type": "text"
      },
      "cell_type": "markdown",
      "source": [
        "# Create mesh and define function spaces\n",
        "\n",
        "We create a triangle mesh on a unit square and use the Taylor Hood element pair as our function spaces. "
      ]
    },
    {
      "metadata": {
        "id": "3j40wBYaOVGa",
        "colab_type": "code",
        "colab": {}
      },
      "cell_type": "code",
      "source": [
        "mesh = UnitSquareMesh(10, 10)\n",
        "P2 = VectorElement('CG', triangle, 2, dim=2)\n",
        "P1 = FiniteElement('CG', triangle, 1)\n",
        "TH = P2 * P1\n",
        "W = FunctionSpace(mesh, TH)"
      ],
      "execution_count": 0,
      "outputs": []
    },
    {
      "metadata": {
        "id": "XYPWvmqgXT_-",
        "colab_type": "text"
      },
      "cell_type": "markdown",
      "source": [
        "In older versions, the Taylor Hood element pair can be defined using the following way. Note that this will not work in earlier versions because we can no longer take the product of two function spaces using the product operator."
      ]
    },
    {
      "metadata": {
        "id": "9N6bxukZZUfk",
        "colab_type": "code",
        "colab": {}
      },
      "cell_type": "code",
      "source": [
        "V = VectorFunctionSpace(mesh,'CG',2, dim=2)\n",
        "Q = FunctionSpace(mesh, 'CG', 1)\n",
        "W = V*Q"
      ],
      "execution_count": 0,
      "outputs": []
    },
    {
      "metadata": {
        "id": "SOcwsYW3adpc",
        "colab_type": "text"
      },
      "cell_type": "markdown",
      "source": [
        "# Define boundaries\n",
        "\n",
        "Because of rounding errors, we need to use tolerances to compare real numbers. Tolerances as low as $3 \\times 10^{-16}$ can be used, and we can easily use the near function to implement this."
      ]
    },
    {
      "metadata": {
        "id": "Q8C6o0-XcK19",
        "colab_type": "code",
        "colab": {}
      },
      "cell_type": "code",
      "source": [
        "lid = 'near(x[1],1)'\n",
        "walls_and_base = 'near(x[0],0) || near(x[0],1) || near(x[1],0)'\n",
        "origin = 'near(x[0],0) && near(x[1],0)'"
      ],
      "execution_count": 0,
      "outputs": []
    },
    {
      "metadata": {
        "id": "GGhgjczycPOt",
        "colab_type": "text"
      },
      "cell_type": "markdown",
      "source": [
        "In older versions, the near function may not be available. In that case, we use the constant DOLFIN_EPS."
      ]
    },
    {
      "metadata": {
        "id": "jLi_sCTRcOCW",
        "colab_type": "code",
        "colab": {}
      },
      "cell_type": "code",
      "source": [
        "lid = 'x[1] > 1.0 - DOLFIN_EPS'\n",
        "walls_and_base = 'x[0] < DOLFIN_EPS || x[0] > 1.0 - DOLFIN_EPS || x[1] < DOLFIN_EPS'\n",
        "origin = 'x[0] < DOLFIN_EPS && x[1] < DOLFIN_EPS'"
      ],
      "execution_count": 0,
      "outputs": []
    },
    {
      "metadata": {
        "id": "1xst203qcq4k",
        "colab_type": "text"
      },
      "cell_type": "markdown",
      "source": [
        "# Define boundary conditions"
      ]
    },
    {
      "metadata": {
        "id": "5W-ZhBjectgD",
        "colab_type": "code",
        "colab": {}
      },
      "cell_type": "code",
      "source": [
        "bc_lid = DirichletBC(W.sub(0), (1,0), lid)\n",
        "bc_noslip = DirichletBC(W.sub(0), (0,0), walls_and_base)\n",
        "bc_p = DirichletBC(W.sub(1), 0, origin, 'pointwise')\n",
        "bc = [bc_lid, bc_noslip, bc_p]"
      ],
      "execution_count": 0,
      "outputs": []
    },
    {
      "metadata": {
        "id": "1R6fVyyhcwbM",
        "colab_type": "text"
      },
      "cell_type": "markdown",
      "source": [
        "# Define variational problem\n",
        "\n",
        "Note that we use TrialFunctions and TestFunctions instead of TrialFunction and TestFunction. "
      ]
    },
    {
      "metadata": {
        "id": "QxRJauY1c6Ru",
        "colab_type": "code",
        "colab": {}
      },
      "cell_type": "code",
      "source": [
        "(u,p) = TrialFunctions(W)\n",
        "(v,q) = TestFunctions(W)\n",
        "f = Constant((0,0))\n",
        "a = inner(grad(u), grad(v))*dx - p*div(v)*dx + div(u)*q*dx\n",
        "L = dot(f, v)*dx"
      ],
      "execution_count": 0,
      "outputs": []
    },
    {
      "metadata": {
        "id": "WkXt7LxNdYD8",
        "colab_type": "text"
      },
      "cell_type": "markdown",
      "source": [
        "# Compute solution"
      ]
    },
    {
      "metadata": {
        "id": "6PiteLmIda3l",
        "colab_type": "code",
        "colab": {}
      },
      "cell_type": "code",
      "source": [
        "w = Function(W)\n",
        "solve(a == L, w, bc)\n",
        "(u,p) = w.split()"
      ],
      "execution_count": 0,
      "outputs": []
    },
    {
      "metadata": {
        "id": "NQ-ZLd0Bddvk",
        "colab_type": "text"
      },
      "cell_type": "markdown",
      "source": [
        "# Plot and save solution"
      ]
    },
    {
      "metadata": {
        "id": "2W7iESdWdf1l",
        "colab_type": "code",
        "colab": {}
      },
      "cell_type": "code",
      "source": [
        "plot(u)\n",
        "vtkfile = File('solution_stokes.pvd')\n",
        "vtkfile << u"
      ],
      "execution_count": 0,
      "outputs": []
    },
    {
      "metadata": {
        "id": "UK0x4WXadvb9",
        "colab_type": "text"
      },
      "cell_type": "markdown",
      "source": [
        "# Get and view current directory"
      ]
    },
    {
      "metadata": {
        "id": "tB56wM7cduhN",
        "colab_type": "code",
        "colab": {}
      },
      "cell_type": "code",
      "source": [
        "import os\n",
        "print(os.getcwd())\n",
        "print(os.listdir())"
      ],
      "execution_count": 0,
      "outputs": []
    },
    {
      "metadata": {
        "id": "S30ELhXMd0tk",
        "colab_type": "text"
      },
      "cell_type": "markdown",
      "source": [
        "# Download solution files"
      ]
    },
    {
      "metadata": {
        "id": "c0KA55LAd3aW",
        "colab_type": "code",
        "colab": {}
      },
      "cell_type": "code",
      "source": [
        "from google.colab import files\n",
        "files.download('solution_stokes.pvd')\n",
        "files.download('solution_stokes000000.vtu')"
      ],
      "execution_count": 0,
      "outputs": []
    }
  ]
}